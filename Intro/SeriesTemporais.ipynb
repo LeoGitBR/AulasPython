{
 "cells": [
  {
   "cell_type": "code",
   "execution_count": 17,
   "metadata": {},
   "outputs": [],
   "source": [
    "import numpy as np\n",
    "import pandas as pd\n",
    "import datetime\n",
    "import pandas_datareader as pdr\n",
    "import pandas_datareader as pdr\n",
    "import matplotlib as plt\n",
    "from matplotlib import style"
   ]
  },
  {
   "cell_type": "code",
   "execution_count": 2,
   "metadata": {},
   "outputs": [],
   "source": [
    "style.use('fivethirtyeight')"
   ]
  },
  {
   "cell_type": "code",
   "execution_count": 41,
   "metadata": {},
   "outputs": [],
   "source": [
    "start = datetime.datetime(2018, 1, 1)\n",
    "end = datetime.datetime(2018, 3, 31)\n",
    "empresa = \"GOOG\"\n",
    "df = pdr.get_data_morningstar(empresa, start, end)"
   ]
  },
  {
   "cell_type": "code",
   "execution_count": 42,
   "metadata": {},
   "outputs": [
    {
     "data": {
      "text/html": [
       "<div>\n",
       "<style scoped>\n",
       "    .dataframe tbody tr th:only-of-type {\n",
       "        vertical-align: middle;\n",
       "    }\n",
       "\n",
       "    .dataframe tbody tr th {\n",
       "        vertical-align: top;\n",
       "    }\n",
       "\n",
       "    .dataframe thead th {\n",
       "        text-align: right;\n",
       "    }\n",
       "</style>\n",
       "<table border=\"1\" class=\"dataframe\">\n",
       "  <thead>\n",
       "    <tr style=\"text-align: right;\">\n",
       "      <th></th>\n",
       "      <th></th>\n",
       "      <th>Close</th>\n",
       "      <th>High</th>\n",
       "      <th>Low</th>\n",
       "      <th>Open</th>\n",
       "      <th>Volume</th>\n",
       "    </tr>\n",
       "    <tr>\n",
       "      <th>Symbol</th>\n",
       "      <th>Date</th>\n",
       "      <th></th>\n",
       "      <th></th>\n",
       "      <th></th>\n",
       "      <th></th>\n",
       "      <th></th>\n",
       "    </tr>\n",
       "  </thead>\n",
       "  <tbody>\n",
       "    <tr>\n",
       "      <th rowspan=\"5\" valign=\"top\">GOOG</th>\n",
       "      <th>2018-01-01</th>\n",
       "      <td>1046.40</td>\n",
       "      <td>1046.4000</td>\n",
       "      <td>1046.4000</td>\n",
       "      <td>1046.40</td>\n",
       "      <td>0</td>\n",
       "    </tr>\n",
       "    <tr>\n",
       "      <th>2018-01-02</th>\n",
       "      <td>1065.00</td>\n",
       "      <td>1066.9400</td>\n",
       "      <td>1045.2300</td>\n",
       "      <td>1048.34</td>\n",
       "      <td>1237564</td>\n",
       "    </tr>\n",
       "    <tr>\n",
       "      <th>2018-01-03</th>\n",
       "      <td>1082.48</td>\n",
       "      <td>1086.2900</td>\n",
       "      <td>1063.2100</td>\n",
       "      <td>1064.31</td>\n",
       "      <td>1430170</td>\n",
       "    </tr>\n",
       "    <tr>\n",
       "      <th>2018-01-04</th>\n",
       "      <td>1086.40</td>\n",
       "      <td>1093.5699</td>\n",
       "      <td>1084.0017</td>\n",
       "      <td>1088.00</td>\n",
       "      <td>1004605</td>\n",
       "    </tr>\n",
       "    <tr>\n",
       "      <th>2018-01-05</th>\n",
       "      <td>1102.23</td>\n",
       "      <td>1104.2500</td>\n",
       "      <td>1092.0000</td>\n",
       "      <td>1094.00</td>\n",
       "      <td>1279123</td>\n",
       "    </tr>\n",
       "  </tbody>\n",
       "</table>\n",
       "</div>"
      ],
      "text/plain": [
       "                     Close       High        Low     Open   Volume\n",
       "Symbol Date                                                       \n",
       "GOOG   2018-01-01  1046.40  1046.4000  1046.4000  1046.40        0\n",
       "       2018-01-02  1065.00  1066.9400  1045.2300  1048.34  1237564\n",
       "       2018-01-03  1082.48  1086.2900  1063.2100  1064.31  1430170\n",
       "       2018-01-04  1086.40  1093.5699  1084.0017  1088.00  1004605\n",
       "       2018-01-05  1102.23  1104.2500  1092.0000  1094.00  1279123"
      ]
     },
     "execution_count": 42,
     "metadata": {},
     "output_type": "execute_result"
    }
   ],
   "source": [
    "df.head()"
   ]
  },
  {
   "cell_type": "code",
   "execution_count": 43,
   "metadata": {},
   "outputs": [
    {
     "data": {
      "text/plain": [
       "<matplotlib.axes._subplots.AxesSubplot at 0x1ab95caac88>"
      ]
     },
     "execution_count": 43,
     "metadata": {},
     "output_type": "execute_result"
    },
    {
     "data": {
      "image/png": "[encoded data removed]",
      "text/plain": [
       "<matplotlib.figure.Figure at 0x1ab95c939b0>"
      ]
     },
     "metadata": {},
     "output_type": "display_data"
    }
   ],
   "source": [
    "df.plot()"
   ]
  },
  {
   "cell_type": "code",
   "execution_count": 44,
   "metadata": {},
   "outputs": [],
   "source": [
    "finalPrices = df['Close']"
   ]
  },
  {
   "cell_type": "code",
   "execution_count": 51,
   "metadata": {},
   "outputs": [
    {
     "data": {
      "text/html": [
       "<div>\n",
       "<style scoped>\n",
       "    .dataframe tbody tr th:only-of-type {\n",
       "        vertical-align: middle;\n",
       "    }\n",
       "\n",
       "    .dataframe tbody tr th {\n",
       "        vertical-align: top;\n",
       "    }\n",
       "\n",
       "    .dataframe thead th {\n",
       "        text-align: right;\n",
       "    }\n",
       "</style>\n",
       "<table border=\"1\" class=\"dataframe\">\n",
       "  <thead>\n",
       "    <tr style=\"text-align: right;\">\n",
       "      <th></th>\n",
       "      <th></th>\n",
       "      <th>Close</th>\n",
       "      <th>High</th>\n",
       "      <th>Low</th>\n",
       "      <th>Open</th>\n",
       "      <th>Volume</th>\n",
       "    </tr>\n",
       "    <tr>\n",
       "      <th>Symbol</th>\n",
       "      <th>Date</th>\n",
       "      <th></th>\n",
       "      <th></th>\n",
       "      <th></th>\n",
       "      <th></th>\n",
       "      <th></th>\n",
       "    </tr>\n",
       "  </thead>\n",
       "  <tbody>\n",
       "    <tr>\n",
       "      <th rowspan=\"5\" valign=\"top\">GOOG</th>\n",
       "      <th>2018-01-01</th>\n",
       "      <td>1046.40</td>\n",
       "      <td>1046.4000</td>\n",
       "      <td>1046.4000</td>\n",
       "      <td>1046.40</td>\n",
       "      <td>0</td>\n",
       "    </tr>\n",
       "    <tr>\n",
       "      <th>2018-01-02</th>\n",
       "      <td>1065.00</td>\n",
       "      <td>1066.9400</td>\n",
       "      <td>1045.2300</td>\n",
       "      <td>1048.34</td>\n",
       "      <td>1237564</td>\n",
       "    </tr>\n",
       "    <tr>\n",
       "      <th>2018-01-03</th>\n",
       "      <td>1082.48</td>\n",
       "      <td>1086.2900</td>\n",
       "      <td>1063.2100</td>\n",
       "      <td>1064.31</td>\n",
       "      <td>1430170</td>\n",
       "    </tr>\n",
       "    <tr>\n",
       "      <th>2018-01-04</th>\n",
       "      <td>1086.40</td>\n",
       "      <td>1093.5699</td>\n",
       "      <td>1084.0017</td>\n",
       "      <td>1088.00</td>\n",
       "      <td>1004605</td>\n",
       "    </tr>\n",
       "    <tr>\n",
       "      <th>2018-01-05</th>\n",
       "      <td>1102.23</td>\n",
       "      <td>1104.2500</td>\n",
       "      <td>1092.0000</td>\n",
       "      <td>1094.00</td>\n",
       "      <td>1279123</td>\n",
       "    </tr>\n",
       "  </tbody>\n",
       "</table>\n",
       "</div>"
      ],
      "text/plain": [
       "                     Close       High        Low     Open   Volume\n",
       "Symbol Date                                                       \n",
       "GOOG   2018-01-01  1046.40  1046.4000  1046.4000  1046.40        0\n",
       "       2018-01-02  1065.00  1066.9400  1045.2300  1048.34  1237564\n",
       "       2018-01-03  1082.48  1086.2900  1063.2100  1064.31  1430170\n",
       "       2018-01-04  1086.40  1093.5699  1084.0017  1088.00  1004605\n",
       "       2018-01-05  1102.23  1104.2500  1092.0000  1094.00  1279123"
      ]
     },
     "execution_count": 51,
     "metadata": {},
     "output_type": "execute_result"
    }
   ],
   "source": [
    "df.head()"
   ]
  },
  {
   "cell_type": "code",
   "execution_count": null,
   "metadata": {},
   "outputs": [],
   "source": []
  },
  {
   "cell_type": "code",
   "execution_count": null,
   "metadata": {},
   "outputs": [],
   "source": []
  }
 ],
 "metadata": {
  "kernelspec": {
   "display_name": "Python 3",
   "language": "python",
   "name": "python3"
  },
  "language_info": {
   "codemirror_mode": {
    "name": "ipython",
    "version": 3
   },
   "file_extension": ".py",
   "mimetype": "text/x-python",
   "name": "python",
   "nbconvert_exporter": "python",
   "pygments_lexer": "ipython3",
   "version": "3.6.4"
  }
 },
 "nbformat": 4,
 "nbformat_minor": 2
}
